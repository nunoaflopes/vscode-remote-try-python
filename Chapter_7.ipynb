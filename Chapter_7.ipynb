{
  "cells": [
    {
      "cell_type": "code",
      "execution_count": null,
      "metadata": {
        "id": "B1r0yiH4TJaj"
      },
      "outputs": [],
      "source": [
        "from time import time\n",
        "import numpy as np\n",
        "import matplotlib.pyplot as plt\n",
        "import pandas as pd\n",
        "from sklearn.model_selection import cross_val_score\n",
        "\n",
        "from sklearn.ensemble import IsolationForest\n",
        "from sklearn.metrics import roc_curve, auc\n",
        "from sklearn.datasets import fetch_kddcup99\n",
        "%matplotlib inline"
      ]
    },
    {
      "cell_type": "code",
      "execution_count": null,
      "metadata": {
        "id": "K7FR30mjTJal"
      },
      "outputs": [],
      "source": [
        "dataset = fetch_kddcup99(subset=None, shuffle=True, percent10=True)\n",
        "# http://www.kdd.org/kdd-cup/view/kdd-cup-1999/Tasks\n",
        "X = dataset.data\n",
        "y = dataset.target"
      ]
    },
    {
      "cell_type": "code",
      "execution_count": null,
      "metadata": {
        "id": "O0kRGmWLTJam"
      },
      "outputs": [],
      "source": [
        "feature_cols = ['duration', 'protocol_type', 'service', 'flag', 'src_bytes', 'dst_bytes', 'land', 'wrong_fragment', 'urgent', 'hot', 'num_failed_logins', 'logged_in', 'num_compromised', 'root_shell', 'su_attempted', 'num_root', 'num_file_creations', 'num_shells', 'num_access_files', 'num_outbound_cmds', 'is_host_login', 'is_guest_login', 'count', 'srv_count', 'serror_rate', 'srv_serrer_rate', 'rerror_rate', 'srv_rerror_rate', 'same_srv_rate', 'diff_srv_rate', 'srv_diff_host_rate', 'dst_host_count', 'dst_host_srv_count', 'dst_host_same_srv_rate', 'dst_host_diff_srv_rate', 'dst_host_same_src_port_rate', 'dst_host_srv_diff_host_rate', 'dst_host_serror_rate', 'dst_host_srv_serror_rate', 'dst_host_rerror_rate', 'dst_host_srv_rerror_rate']\n",
        "X = pd.DataFrame(X, columns = feature_cols)\n",
        "\n",
        "y = pd.Series(y)"
      ]
    },
    {
      "cell_type": "code",
      "execution_count": null,
      "metadata": {
        "colab": {
          "base_uri": "https://localhost:8080/",
          "height": 299
        },
        "id": "s1dQv_KSTJam",
        "outputId": "8379a73a-b5e5-449c-82e0-b33b04d75aaf"
      },
      "outputs": [],
      "source": [
        "X.head()"
      ]
    },
    {
      "cell_type": "code",
      "execution_count": null,
      "metadata": {
        "id": "mnZPuGm3TJan"
      },
      "outputs": [],
      "source": [
        "for col in X.columns:  # turn whatever columns into floats that we can\n",
        "    try:\n",
        "        X[col] = X[col].astype(float)\n",
        "    except ValueError:\n",
        "        pass"
      ]
    },
    {
      "cell_type": "code",
      "execution_count": null,
      "metadata": {
        "id": "vskost6vTJan"
      },
      "outputs": [],
      "source": [
        "X = pd.get_dummies(X, prefix=['protocol_type_', 'service_', 'flag_'], drop_first=True)"
      ]
    },
    {
      "cell_type": "code",
      "execution_count": null,
      "metadata": {
        "colab": {
          "base_uri": "https://localhost:8080/",
          "height": 299
        },
        "id": "J1nr4UBmTJan",
        "outputId": "1dab2f47-03c3-4b70-ead8-2f79cb9b786e"
      },
      "outputs": [],
      "source": [
        "X.head()"
      ]
    },
    {
      "cell_type": "code",
      "execution_count": null,
      "metadata": {
        "colab": {
          "base_uri": "https://localhost:8080/"
        },
        "id": "Y2K_3kHJTJao",
        "outputId": "da6ee3ed-5a01-46a1-ad8a-90d59b1ce0a0"
      },
      "outputs": [],
      "source": [
        "y.value_counts()"
      ]
    },
    {
      "cell_type": "markdown",
      "metadata": {
        "id": "UCdxd2dHUB_1"
      },
      "source": [
        "Será que o problema é a lista Y que tem texto e categorias em vez de números ?"
      ]
    },
    {
      "cell_type": "code",
      "execution_count": null,
      "metadata": {
        "colab": {
          "base_uri": "https://localhost:8080/"
        },
        "id": "jJMjWkitUA6a",
        "outputId": "e90883fc-8e56-4ece-f7e9-af035f7c629b"
      },
      "outputs": [],
      "source": [
        "from sklearn.preprocessing import LabelEncoder\n",
        "\n",
        "le = LabelEncoder()\n",
        "le.fit(y)\n",
        "print(le.classes_)\n",
        "y_integer = le.transform(y)"
      ]
    },
    {
      "cell_type": "code",
      "execution_count": null,
      "metadata": {
        "colab": {
          "base_uri": "https://localhost:8080/"
        },
        "id": "2ChHgCEjTJao",
        "outputId": "8d914549-85bb-4bc5-e7d8-ac5639e67029"
      },
      "outputs": [],
      "source": [
        "# fit a classification tree with max_depth=3 on all data\n",
        "from sklearn.tree import DecisionTreeClassifier, export_graphviz\n",
        "\n",
        "treeclf = DecisionTreeClassifier(max_depth=7)\n",
        "\n",
        "scores = cross_val_score(treeclf, X, y_integer, scoring='accuracy', cv=5)\n",
        "\n",
        "print(np.mean(scores))\n",
        "\n",
        "treeclf.fit(X, y_integer)"
      ]
    },
    {
      "cell_type": "code",
      "execution_count": null,
      "metadata": {
        "id": "YedD3ZUwTJao"
      },
      "outputs": [],
      "source": [
        "# create a Graphviz file\n",
        "export_graphviz(treeclf, out_file='tree_kdd.dot', feature_names=X.columns)\n",
        "\n",
        "# At the command line, run this to convert to PNG:\n",
        "!dot -Tpng tree_kdd.dot -o tree_kdd.png"
      ]
    },
    {
      "cell_type": "markdown",
      "metadata": {
        "id": "2G5hdMgmTJao"
      },
      "source": [
        "<img src=\"https://github.com/nunoaflopes/IA4cyber-Livro2-Hands-on-ML-for-Cyber-Security-Packt/blob/master/Chapter07/tree_kdd.png?raw=1\">"
      ]
    },
    {
      "cell_type": "code",
      "execution_count": null,
      "metadata": {
        "colab": {
          "base_uri": "https://localhost:8080/",
          "height": 363
        },
        "id": "Jde7B-GaTJap",
        "outputId": "80b734d2-ba1c-4607-a531-e410730c004a"
      },
      "outputs": [],
      "source": [
        "pd.DataFrame({'feature':X.columns, 'importance':treeclf.feature_importances_}).sort_values('importance', ascending=False).head(10)"
      ]
    },
    {
      "cell_type": "code",
      "execution_count": null,
      "metadata": {
        "colab": {
          "base_uri": "https://localhost:8080/"
        },
        "id": "uLKuNwwNTJap",
        "outputId": "38a961c3-9526-438e-e0a4-aafd846f2154"
      },
      "outputs": [],
      "source": [
        "# How about a Random Forest?\n",
        "from sklearn.ensemble import RandomForestClassifier\n",
        "rf = RandomForestClassifier()\n",
        "\n",
        "scores = cross_val_score(rf, X, y_integer, scoring='accuracy', cv=5)\n",
        "\n",
        "print(np.mean(scores))  # nicer\n",
        "\n",
        "rf.fit(X, y_integer)"
      ]
    },
    {
      "cell_type": "code",
      "execution_count": null,
      "metadata": {
        "colab": {
          "base_uri": "https://localhost:8080/",
          "height": 363
        },
        "id": "HRkK_jq_TJaq",
        "outputId": "af263aca-72a3-4dda-e380-3390594f0b1f"
      },
      "outputs": [],
      "source": [
        "# more spread out importances than a single decision tree\n",
        "pd.DataFrame({'feature':X.columns, 'importance':rf.feature_importances_}).sort_values('importance', ascending=False).head(10)"
      ]
    },
    {
      "cell_type": "code",
      "execution_count": null,
      "metadata": {
        "id": "B2s0rOdwTJaq"
      },
      "outputs": [],
      "source": []
    },
    {
      "cell_type": "markdown",
      "metadata": {
        "id": "35AcS-bATJaq"
      },
      "source": [
        "# Anomoly Detection\n",
        "“An outlier is an observation in a data set which appears to be inconsistent with the remainder of that set of data.”\n",
        "\n",
        "- Supervised Anomoly Detection\n",
        "\n",
        "    - Labels available for both normal data and anomalies\n",
        "    - Similar to rare class mining / imbalanced classification\n",
        "\n",
        "- Unsupervised Anomoly Detection (Outlier Detection)\n",
        "    - no labels, training set = normal + abnormal data • Assumption: anomalies are very rare\n",
        "\n",
        "- Semi-supervised Anomoly Detection (Novelty Detection)\n",
        "    - Only normal data available to train\n",
        "    - The algorithm learns on normal data only\n",
        "\n",
        "## Isolation Forest\n",
        "\n",
        "The IsolationForest ‘isolates’ observations by randomly selecting a feature and then randomly selecting a split value between the maximum and minimum values of the selected feature.\n",
        "\n",
        "Since recursive partitioning can be represented by a tree structure, the number of splittings required to isolate a sample is equivalent to the path length from the root node to the terminating node.\n",
        "\n",
        "This path length, averaged over a forest of such random trees, is a measure of normality and our decision function.\n",
        "\n",
        "Random partitioning produces noticeably shorter paths for anomalies. Hence, when a forest of random trees collectively produce shorter path lengths for particular samples, they are highly likely to be anomalies"
      ]
    },
    {
      "cell_type": "code",
      "execution_count": null,
      "metadata": {
        "id": "nzynloF7TJaq"
      },
      "outputs": [],
      "source": [
        "# Supervised and Outlier Detection with KDD\n",
        "\n",
        "# In this example, we will want to use binary data where 1 will represent a \"not-normal\" attack"
      ]
    },
    {
      "cell_type": "code",
      "execution_count": null,
      "metadata": {
        "id": "F781E13GTJar"
      },
      "outputs": [],
      "source": [
        "from sklearn.model_selection import train_test_split\n",
        "\n",
        "y_binary = y != 'normal.'"
      ]
    },
    {
      "cell_type": "code",
      "execution_count": null,
      "metadata": {
        "id": "2K7EnQyATJar"
      },
      "outputs": [],
      "source": [
        "y_binary.head()\n"
      ]
    },
    {
      "cell_type": "code",
      "execution_count": null,
      "metadata": {
        "id": "UksHdbzFTJar"
      },
      "outputs": [],
      "source": [
        "X_train, X_test, y_train, y_test = train_test_split(X, y_binary)\n"
      ]
    },
    {
      "cell_type": "code",
      "execution_count": null,
      "metadata": {
        "id": "72hfnNLPTJar"
      },
      "outputs": [],
      "source": [
        "y_test.value_counts(normalize=True)  # check our null accuracy\n"
      ]
    },
    {
      "cell_type": "code",
      "execution_count": null,
      "metadata": {
        "id": "Emuk9Mj-TJar"
      },
      "outputs": [],
      "source": [
        "model = IsolationForest()\n",
        "model.fit(X_train)  # notice that there is no y in the .fit"
      ]
    },
    {
      "cell_type": "code",
      "execution_count": null,
      "metadata": {
        "id": "RmduO5CuTJar"
      },
      "outputs": [],
      "source": [
        "y_predicted = model.predict(X_test)\n",
        "\n",
        "pd.Series(y_predicted).value_counts()"
      ]
    },
    {
      "cell_type": "code",
      "execution_count": null,
      "metadata": {
        "id": "G51JHubCTJar"
      },
      "outputs": [],
      "source": [
        "y_predicted = np.where(y_predicted==1, 1, 0)  # turn into 0s and 1s\n",
        "\n",
        "pd.Series(y_predicted).value_counts()  # that's better"
      ]
    },
    {
      "cell_type": "code",
      "execution_count": null,
      "metadata": {
        "id": "-K0ZQ2ivTJas"
      },
      "outputs": [],
      "source": [
        "scores = model.decision_function(X_test)\n",
        "\n",
        "scores  # the smaller, the more anomolous"
      ]
    },
    {
      "cell_type": "code",
      "execution_count": null,
      "metadata": {
        "id": "N0tZmbvHTJas"
      },
      "outputs": [],
      "source": [
        "pd.Series(scores).hist()"
      ]
    },
    {
      "cell_type": "code",
      "execution_count": null,
      "metadata": {
        "id": "yA-2W7WZTJas"
      },
      "outputs": [],
      "source": [
        "from sklearn.metrics import accuracy_score\n",
        "preds = np.where(scores < 0, 0, 1)  # customize threshold\n",
        "accuracy_score(preds, y_test)"
      ]
    },
    {
      "cell_type": "code",
      "execution_count": null,
      "metadata": {
        "id": "xD9k3u9MTJas"
      },
      "outputs": [],
      "source": [
        "for t in (-2, -.15, -.1, -.05, 0, .05):\n",
        "    preds = np.where(scores < t, 0, 1)  # customize threshold\n",
        "    print t, accuracy_score(preds, y_test)"
      ]
    },
    {
      "cell_type": "code",
      "execution_count": null,
      "metadata": {
        "id": "CC9ThXHxTJas"
      },
      "outputs": [],
      "source": [
        "## -0.05 0.816988648325 gives us better than the null accuracy, without ever needing the testing set\n",
        "# This shows how we can can achieve predictive results without labeled data\n",
        "\n",
        "\n",
        "# This is an interesting use case of novelty detection becuase generally, when given labels\n",
        "# we do not use such tactics."
      ]
    },
    {
      "cell_type": "code",
      "execution_count": null,
      "metadata": {
        "id": "_rjj9uEuTJas"
      },
      "outputs": [],
      "source": []
    },
    {
      "cell_type": "code",
      "execution_count": null,
      "metadata": {
        "id": "8Jnyt9A2TJas"
      },
      "outputs": [],
      "source": []
    },
    {
      "cell_type": "code",
      "execution_count": null,
      "metadata": {
        "id": "widaxiJCTJas"
      },
      "outputs": [],
      "source": []
    },
    {
      "cell_type": "code",
      "execution_count": null,
      "metadata": {
        "id": "cdDHxzVBTJas"
      },
      "outputs": [],
      "source": [
        "# Detecting Malicious Urls\n",
        "\n",
        "# Load the data\n",
        "from urlparse import urlparse\n",
        "import pandas as pd\n",
        "urls = pd.read_json(\"../data/urls.json\")\n",
        "print urls.shape\n",
        "urls['string'] = \"http://\" + urls['string']"
      ]
    },
    {
      "cell_type": "code",
      "execution_count": null,
      "metadata": {
        "id": "OmWSvA0GTJas"
      },
      "outputs": [],
      "source": [
        "urls.head(10)\n"
      ]
    },
    {
      "cell_type": "code",
      "execution_count": null,
      "metadata": {
        "id": "o-K4eKKvTJas"
      },
      "outputs": [],
      "source": [
        "X, y = urls['string'], urls['truth']\n"
      ]
    },
    {
      "cell_type": "code",
      "execution_count": null,
      "metadata": {
        "id": "8DpwK5KgTJas"
      },
      "outputs": [],
      "source": [
        "X.head()  # look at X\n",
        "\n"
      ]
    },
    {
      "cell_type": "code",
      "execution_count": null,
      "metadata": {
        "id": "thg1E9nGTJas"
      },
      "outputs": [],
      "source": [
        "# get our null accuracy because we are interested in prediction where 0 is not malicious\n",
        "\n",
        "y.value_counts(normalize=True)  "
      ]
    },
    {
      "cell_type": "code",
      "execution_count": null,
      "metadata": {
        "id": "yRLtysQHTJas"
      },
      "outputs": [],
      "source": [
        "from sklearn.feature_extraction.text import CountVectorizer\n",
        "\n",
        "\n",
        "# Create a function called custom_tokenizer that takes in a string and outputs a list of tokens of the string.\n",
        "import re\n",
        "\n",
        "def custom_tokenizer(string):\n",
        "    final = []\n",
        "    tokens = [a for a in list(urlparse(string)) if a]\n",
        "    for t in tokens:\n",
        "        final.extend(re.compile(\"[.-]\").split(t))\n",
        "    return final"
      ]
    },
    {
      "cell_type": "code",
      "execution_count": null,
      "metadata": {
        "id": "2wfXq3AxTJat"
      },
      "outputs": [],
      "source": [
        "print custom_tokenizer('google.com')\n",
        "\n",
        "print custom_tokenizer('https://google-so-not-fake.com?fake=False&seriously=True')\n"
      ]
    },
    {
      "cell_type": "code",
      "execution_count": null,
      "metadata": {
        "id": "-LGrl9mYTJat"
      },
      "outputs": [],
      "source": [
        "from sklearn.pipeline import Pipeline\n",
        "from sklearn.linear_model import LogisticRegression\n",
        "\n",
        "\n",
        "vect = CountVectorizer(tokenizer=custom_tokenizer)\n",
        "lr = LogisticRegression()\n",
        "lr_pipe = Pipeline([('vect', vect), ('model', lr)])"
      ]
    },
    {
      "cell_type": "code",
      "execution_count": null,
      "metadata": {
        "id": "HBwYLr-vTJat"
      },
      "outputs": [],
      "source": [
        "from sklearn.model_selection import cross_val_score, GridSearchCV, train_test_split\n",
        "\n",
        "\n",
        "scores = cross_val_score(lr_pipe, X, y, cv=5)\n",
        "\n",
        "scores.mean()  # not good enough!!"
      ]
    },
    {
      "cell_type": "code",
      "execution_count": null,
      "metadata": {
        "id": "90pQqNmgTJat"
      },
      "outputs": [],
      "source": [
        "from sklearn.pipeline import Pipeline\n",
        "from sklearn.ensemble import RandomForestClassifier\n",
        "\n",
        "rf_pipe = Pipeline([('vect', vect), ('model', RandomForestClassifier(n_estimators=500))])\n",
        "scores = cross_val_score(rf_pipe, X, y, cv=5)\n",
        "\n",
        "scores.mean()  # not as good"
      ]
    },
    {
      "cell_type": "code",
      "execution_count": null,
      "metadata": {
        "id": "ujpAJ1qbTJat"
      },
      "outputs": [],
      "source": [
        "X_train, X_test, y_train, y_test = train_test_split(X, y)\n",
        "\n",
        "from sklearn.metrics import confusion_matrix\n",
        "\n",
        "rf_pipe.fit(X_train, y_train)\n",
        "\n",
        "preds = rf_pipe.predict(X_test)\n",
        "print confusion_matrix(y_test, preds)  # hmmmm"
      ]
    },
    {
      "cell_type": "code",
      "execution_count": null,
      "metadata": {
        "id": "KACQoy9jTJat"
      },
      "outputs": [],
      "source": [
        "probs = rf_pipe.predict_proba(X_test)[:,1]  # get predicted probabilities of malicious-ness"
      ]
    },
    {
      "cell_type": "code",
      "execution_count": null,
      "metadata": {
        "id": "RogQbiVhTJat"
      },
      "outputs": [],
      "source": [
        "import numpy as np  # play with threshold to alter false positive/negative rate\n",
        "for thresh in [.1, .2, .3, .4, .5, .6, .7, .8, .9]:\n",
        "    preds = np.where(probs >= thresh, 1, 0)\n",
        "    print thresh\n",
        "    print confusion_matrix(y_test, preds)\n",
        "    print"
      ]
    },
    {
      "cell_type": "code",
      "execution_count": null,
      "metadata": {
        "id": "l-XOfX1KTJat"
      },
      "outputs": [],
      "source": [
        "pd.DataFrame({'feature':rf_pipe.steps[0][1].get_feature_names(), 'importance':rf_pipe.steps[-1][1].feature_importances_}).sort_values('importance', ascending=False).head(10)"
      ]
    },
    {
      "cell_type": "code",
      "execution_count": null,
      "metadata": {
        "id": "kDC4iYHzTJat"
      },
      "outputs": [],
      "source": [
        "treeclf = DecisionTreeClassifier(max_depth=7)\n",
        "\n",
        "tree_pipe = Pipeline([('vect', vect), ('model', treeclf)])\n",
        "\n",
        "vect = CountVectorizer(tokenizer=custom_tokenizer)\n",
        "\n",
        "scores = cross_val_score(tree_pipe, X, y, scoring='accuracy', cv=5)\n",
        "\n",
        "print np.mean(scores)\n",
        "\n",
        "tree_pipe.fit(X, y)\n",
        "\n",
        "export_graphviz(tree_pipe.steps[1][1], out_file='tree_urls.dot', feature_names=tree_pipe.steps[0][1].get_feature_names())"
      ]
    },
    {
      "cell_type": "markdown",
      "metadata": {
        "id": "l-KQ-wKPTJat"
      },
      "source": [
        "<img src=\"https://github.com/nunoaflopes/IA4cyber-Livro2-Hands-on-ML-for-Cyber-Security-Packt/blob/master/Chapter07/tree_urls.png?raw=1\">"
      ]
    },
    {
      "cell_type": "code",
      "execution_count": null,
      "metadata": {
        "id": "Gr_zef1TTJat"
      },
      "outputs": [],
      "source": [
        "# eg. if a url has \"verifiziren\" in it, it is VERY likely malicious"
      ]
    },
    {
      "cell_type": "code",
      "execution_count": null,
      "metadata": {
        "id": "mnAeW9KmTJat"
      },
      "outputs": [],
      "source": []
    },
    {
      "cell_type": "code",
      "execution_count": null,
      "metadata": {
        "id": "DNTGWvyETJat"
      },
      "outputs": [],
      "source": []
    },
    {
      "cell_type": "code",
      "execution_count": null,
      "metadata": {
        "id": "hlHM7_UmTJat"
      },
      "outputs": [],
      "source": []
    },
    {
      "cell_type": "code",
      "execution_count": null,
      "metadata": {
        "id": "apK31dEtTJat"
      },
      "outputs": [],
      "source": [
        "# Longer Credit Card Fraud Detection\n",
        "\n",
        "https://github.com/sinanuozdemir/blackhat-vegas-ml/blob/master/Fraud%20Detection.ipynb"
      ]
    },
    {
      "cell_type": "code",
      "execution_count": null,
      "metadata": {
        "id": "61yTCW7nTJau"
      },
      "outputs": [],
      "source": []
    }
  ],
  "metadata": {
    "colab": {
      "provenance": []
    },
    "kernelspec": {
      "display_name": "Python 3",
      "language": "python",
      "name": "python3"
    },
    "language_info": {
      "codemirror_mode": {
        "name": "ipython",
        "version": 2
      },
      "file_extension": ".py",
      "mimetype": "text/x-python",
      "name": "python",
      "nbconvert_exporter": "python",
      "pygments_lexer": "ipython2",
      "version": "3.9.2 (default, Feb 28 2021, 17:03:44) \n[GCC 10.2.1 20210110]"
    },
    "vscode": {
      "interpreter": {
        "hash": "31f2aee4e71d21fbe5cf8b01ff0e069b9275f58929596ceb00d14d90e3e16cd6"
      }
    }
  },
  "nbformat": 4,
  "nbformat_minor": 0
}
